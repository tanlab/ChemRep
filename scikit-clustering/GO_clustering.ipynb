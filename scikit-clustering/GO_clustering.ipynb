{
 "cells": [
  {
   "cell_type": "code",
   "execution_count": null,
   "metadata": {},
   "outputs": [],
   "source": [
    "import pandas as pd\n",
    "import numpy as np\n",
    "import os"
   ]
  },
  {
   "cell_type": "code",
   "execution_count": null,
   "metadata": {},
   "outputs": [],
   "source": [
    "go = pd.read_csv('Gene_go_fingerprints.csv',index_col=0)"
   ]
  },
  {
   "cell_type": "code",
   "execution_count": null,
   "metadata": {},
   "outputs": [],
   "source": [
    "maayan = pd.read_csv('MLABGenes.txt')"
   ]
  },
  {
   "cell_type": "code",
   "execution_count": null,
   "metadata": {},
   "outputs": [],
   "source": [
    "dest_dir = os.path.join(\"./\")\n",
    "try:\n",
    "    os.makedirs(dest_dir)\n",
    "except OSError:\n",
    "    pass  # already e   xists\n",
    "filename = 'go_clusters_AgglomerativeClustering.csv'\n",
    "path = os.path.join(dest_dir, filename)\n",
    "  "
   ]
  },
  {
   "cell_type": "code",
   "execution_count": null,
   "metadata": {},
   "outputs": [],
   "source": [
    "for column in go:\n",
    "    if column == 'Unnamed: 0':\n",
    "        names = go[column].to_numpy()\n",
    "    continue\n",
    "    select = go[column].to_numpy()\n",
    "    a = (names[np.nonzero(select == 1)] )\n",
    "    with open(path,'a') as file:\n",
    "        file.write(column +','+ str(a.tolist())[1:-1].replace('\\'','').replace(',',';'))"
   ]
  },
  {
   "cell_type": "code",
   "execution_count": null,
   "metadata": {},
   "outputs": [],
   "source": [
    " from sklearn.cluster import Birch"
   ]
  },
  {
   "cell_type": "code",
   "execution_count": null,
   "metadata": {},
   "outputs": [],
   "source": [
    "\n",
    "go2 = go\n",
    "for gene in  go.T.columns:\n",
    "    if gene not in maayan['0'].to_list():\n",
    "        go2 = go2.drop(str(gene),axis=0)\n",
    "# go[maayan['0'].to_list(),:]"
   ]
  },
  {
   "cell_type": "code",
   "execution_count": null,
   "metadata": {
    "scrolled": true
   },
   "outputs": [],
   "source": [
    "from sklearn.cluster import AgglomerativeClustering\n",
    "brc = AgglomerativeClustering(n_clusters=47)\n",
    "brc.fit(go2)"
   ]
  },
  {
   "cell_type": "code",
   "execution_count": null,
   "metadata": {},
   "outputs": [],
   "source": [
    "clusters = brc.labels_"
   ]
  },
  {
   "cell_type": "code",
   "execution_count": null,
   "metadata": {},
   "outputs": [],
   "source": [
    "for i in range(47):\n",
    "    with open(path,'a') as file:\n",
    "        file.write(str(i) +', '+ str(go2.index[clusters ==i].tolist())[1:-1].replace('\\'','').replace(',',';')+'\\n')"
   ]
  }
 ],
 "metadata": {
  "kernelspec": {
   "display_name": "Python 3",
   "language": "python",
   "name": "python3"
  },
  "language_info": {
   "codemirror_mode": {
    "name": "ipython",
    "version": 3
   },
   "file_extension": ".py",
   "mimetype": "text/x-python",
   "name": "python",
   "nbconvert_exporter": "python",
   "pygments_lexer": "ipython3",
   "version": "3.7.9"
  }
 },
 "nbformat": 4,
 "nbformat_minor": 2
}

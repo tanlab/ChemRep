{
 "cells": [
  {
   "cell_type": "code",
   "execution_count": 11,
   "metadata": {},
   "outputs": [],
   "source": [
    "import pandas as pd"
   ]
  },
  {
   "cell_type": "code",
   "execution_count": 12,
   "metadata": {},
   "outputs": [],
   "source": [
    "full_data = pd.read_csv('pre_train_dim200.csv')\n",
    "our_genes = pd.read_csv('gene_symbols.csv')"
   ]
  },
  {
   "cell_type": "code",
   "execution_count": 13,
   "metadata": {},
   "outputs": [],
   "source": [
    "data = full_data[full_data['gene_name'].isin(list(our_genes['0']))]"
   ]
  },
  {
   "cell_type": "code",
   "execution_count": 14,
   "metadata": {},
   "outputs": [],
   "source": [
    "data = data.reset_index()"
   ]
  },
  {
   "cell_type": "code",
   "execution_count": 15,
   "metadata": {},
   "outputs": [],
   "source": [
    "data.drop('index',axis=1,inplace=True)"
   ]
  },
  {
   "cell_type": "code",
   "execution_count": 17,
   "metadata": {},
   "outputs": [],
   "source": [
    "data.index = data['gene_name']"
   ]
  },
  {
   "cell_type": "code",
   "execution_count": 18,
   "metadata": {},
   "outputs": [],
   "source": [
    "data.drop('gene_name',axis=1,inplace=True)"
   ]
  },
  {
   "cell_type": "code",
   "execution_count": 20,
   "metadata": {},
   "outputs": [],
   "source": [
    "counter =0\n",
    "for u in list(our_genes['0']):\n",
    "    if u in list(full_data['gene_name']):\n",
    "        counter+=1\n",
    "    else:\n",
    "        print(u)"
   ]
  },
  {
   "cell_type": "code",
   "execution_count": 64,
   "metadata": {
    "scrolled": true
   },
   "outputs": [
    {
     "data": {
      "text/html": [
       "<div>\n",
       "<style scoped>\n",
       "    .dataframe tbody tr th:only-of-type {\n",
       "        vertical-align: middle;\n",
       "    }\n",
       "\n",
       "    .dataframe tbody tr th {\n",
       "        vertical-align: top;\n",
       "    }\n",
       "\n",
       "    .dataframe thead th {\n",
       "        text-align: right;\n",
       "    }\n",
       "</style>\n",
       "<table border=\"1\" class=\"dataframe\">\n",
       "  <thead>\n",
       "    <tr style=\"text-align: right;\">\n",
       "      <th></th>\n",
       "      <th>gene_name</th>\n",
       "      <th>1</th>\n",
       "      <th>2</th>\n",
       "      <th>3</th>\n",
       "      <th>4</th>\n",
       "      <th>5</th>\n",
       "      <th>6</th>\n",
       "      <th>7</th>\n",
       "      <th>8</th>\n",
       "      <th>9</th>\n",
       "      <th>...</th>\n",
       "      <th>191</th>\n",
       "      <th>192</th>\n",
       "      <th>193</th>\n",
       "      <th>194</th>\n",
       "      <th>195</th>\n",
       "      <th>196</th>\n",
       "      <th>197</th>\n",
       "      <th>198</th>\n",
       "      <th>199</th>\n",
       "      <th>200</th>\n",
       "    </tr>\n",
       "  </thead>\n",
       "  <tbody>\n",
       "    <tr>\n",
       "      <td>8957</td>\n",
       "      <td>JADE2</td>\n",
       "      <td>-0.109706</td>\n",
       "      <td>-0.065661</td>\n",
       "      <td>-0.200770</td>\n",
       "      <td>0.070371</td>\n",
       "      <td>-0.023892</td>\n",
       "      <td>0.155208</td>\n",
       "      <td>0.194550</td>\n",
       "      <td>0.048036</td>\n",
       "      <td>0.137563</td>\n",
       "      <td>...</td>\n",
       "      <td>0.211417</td>\n",
       "      <td>0.130179</td>\n",
       "      <td>-0.160235</td>\n",
       "      <td>0.055584</td>\n",
       "      <td>-0.053972</td>\n",
       "      <td>-0.032994</td>\n",
       "      <td>-0.214676</td>\n",
       "      <td>-0.164780</td>\n",
       "      <td>-0.129610</td>\n",
       "      <td>-0.103413</td>\n",
       "    </tr>\n",
       "    <tr>\n",
       "      <td>9289</td>\n",
       "      <td>JADE1</td>\n",
       "      <td>0.118478</td>\n",
       "      <td>-0.193888</td>\n",
       "      <td>-0.004029</td>\n",
       "      <td>-0.086762</td>\n",
       "      <td>0.441333</td>\n",
       "      <td>0.260692</td>\n",
       "      <td>0.236927</td>\n",
       "      <td>-0.073378</td>\n",
       "      <td>0.159373</td>\n",
       "      <td>...</td>\n",
       "      <td>-0.226748</td>\n",
       "      <td>0.109241</td>\n",
       "      <td>0.030147</td>\n",
       "      <td>-0.274141</td>\n",
       "      <td>-0.553778</td>\n",
       "      <td>0.011217</td>\n",
       "      <td>0.035475</td>\n",
       "      <td>0.063061</td>\n",
       "      <td>0.049366</td>\n",
       "      <td>-0.548632</td>\n",
       "    </tr>\n",
       "    <tr>\n",
       "      <td>12680</td>\n",
       "      <td>JADE3</td>\n",
       "      <td>0.147610</td>\n",
       "      <td>0.203638</td>\n",
       "      <td>-0.147709</td>\n",
       "      <td>0.088162</td>\n",
       "      <td>0.498331</td>\n",
       "      <td>0.201861</td>\n",
       "      <td>0.270872</td>\n",
       "      <td>-0.110956</td>\n",
       "      <td>0.044059</td>\n",
       "      <td>...</td>\n",
       "      <td>-0.124710</td>\n",
       "      <td>0.012222</td>\n",
       "      <td>0.049219</td>\n",
       "      <td>-0.105659</td>\n",
       "      <td>-0.118257</td>\n",
       "      <td>-0.304596</td>\n",
       "      <td>-0.190816</td>\n",
       "      <td>0.065633</td>\n",
       "      <td>0.118882</td>\n",
       "      <td>-0.366398</td>\n",
       "    </tr>\n",
       "  </tbody>\n",
       "</table>\n",
       "<p>3 rows × 201 columns</p>\n",
       "</div>"
      ],
      "text/plain": [
       "      gene_name         1         2         3         4         5         6  \\\n",
       "8957      JADE2 -0.109706 -0.065661 -0.200770  0.070371 -0.023892  0.155208   \n",
       "9289      JADE1  0.118478 -0.193888 -0.004029 -0.086762  0.441333  0.260692   \n",
       "12680     JADE3  0.147610  0.203638 -0.147709  0.088162  0.498331  0.201861   \n",
       "\n",
       "              7         8         9  ...       191       192       193  \\\n",
       "8957   0.194550  0.048036  0.137563  ...  0.211417  0.130179 -0.160235   \n",
       "9289   0.236927 -0.073378  0.159373  ... -0.226748  0.109241  0.030147   \n",
       "12680  0.270872 -0.110956  0.044059  ... -0.124710  0.012222  0.049219   \n",
       "\n",
       "            194       195       196       197       198       199       200  \n",
       "8957   0.055584 -0.053972 -0.032994 -0.214676 -0.164780 -0.129610 -0.103413  \n",
       "9289  -0.274141 -0.553778  0.011217  0.035475  0.063061  0.049366 -0.548632  \n",
       "12680 -0.105659 -0.118257 -0.304596 -0.190816  0.065633  0.118882 -0.366398  \n",
       "\n",
       "[3 rows x 201 columns]"
      ]
     },
     "execution_count": 64,
     "metadata": {},
     "output_type": "execute_result"
    }
   ],
   "source": [
    "full_data[full_data['gene_name'].isin(['JADE1','JADE2','JADE3'])]"
   ]
  },
  {
   "cell_type": "code",
   "execution_count": 21,
   "metadata": {
    "scrolled": true
   },
   "outputs": [
    {
     "data": {
      "text/plain": [
       "AffinityPropagation(affinity='euclidean', convergence_iter=15, copy=True,\n",
       "                    damping=0.5, max_iter=200, preference=None, verbose=False)"
      ]
     },
     "execution_count": 21,
     "metadata": {},
     "output_type": "execute_result"
    }
   ],
   "source": [
    "from sklearn.cluster import AffinityPropagation\n",
    "brc = AffinityPropagation()\n",
    "brc.fit(data)"
   ]
  },
  {
   "cell_type": "code",
   "execution_count": 22,
   "metadata": {},
   "outputs": [],
   "source": [
    "clusters = brc.labels_"
   ]
  },
  {
   "cell_type": "code",
   "execution_count": 23,
   "metadata": {},
   "outputs": [
    {
     "ename": "AttributeError",
     "evalue": "'AffinityPropagation' object has no attribute 'ordering_'",
     "output_type": "error",
     "traceback": [
      "\u001b[0;31m---------------------------------------------------------------------------\u001b[0m",
      "\u001b[0;31mAttributeError\u001b[0m                            Traceback (most recent call last)",
      "\u001b[0;32m<ipython-input-23-2f719a16c08e>\u001b[0m in \u001b[0;36m<module>\u001b[0;34m\u001b[0m\n\u001b[0;32m----> 1\u001b[0;31m \u001b[0mlabels\u001b[0m \u001b[0;34m=\u001b[0m \u001b[0mbrc\u001b[0m\u001b[0;34m.\u001b[0m\u001b[0mlabels_\u001b[0m\u001b[0;34m[\u001b[0m\u001b[0mbrc\u001b[0m\u001b[0;34m.\u001b[0m\u001b[0mordering_\u001b[0m\u001b[0;34m]\u001b[0m\u001b[0;34m\u001b[0m\u001b[0;34m\u001b[0m\u001b[0m\n\u001b[0m",
      "\u001b[0;31mAttributeError\u001b[0m: 'AffinityPropagation' object has no attribute 'ordering_'"
     ]
    }
   ],
   "source": [
    "labels = brc.labels_[brc.ordering_]"
   ]
  },
  {
   "cell_type": "code",
   "execution_count": 35,
   "metadata": {},
   "outputs": [],
   "source": [
    "\n",
    "import os \n",
    "dest_dir = os.path.join(\"/home/kenny/PycharmProjects/gene2vecClustering/\")\n",
    "try:\n",
    "    os.makedirs(dest_dir)\n",
    "except OSError:\n",
    "    pass  # already e   xists\n",
    "filename = 'AffinityPropagation_178genes.csv'\n",
    "path = os.path.join(dest_dir, filename)\n",
    "  "
   ]
  },
  {
   "cell_type": "code",
   "execution_count": 39,
   "metadata": {},
   "outputs": [],
   "source": [
    "for i in range(88):\n",
    "    with open(path,'a') as file:\n",
    "        file.write(str(i) +', '+ str(data.index[clusters ==i].tolist())[1:-1].replace('\\'','').replace(',',';')+'\\n')"
   ]
  },
  {
   "cell_type": "code",
   "execution_count": null,
   "metadata": {},
   "outputs": [],
   "source": []
  }
 ],
 "metadata": {
  "kernelspec": {
   "display_name": "Python 3",
   "language": "python",
   "name": "python3"
  },
  "language_info": {
   "codemirror_mode": {
    "name": "ipython",
    "version": 3
   },
   "file_extension": ".py",
   "mimetype": "text/x-python",
   "name": "python",
   "nbconvert_exporter": "python",
   "pygments_lexer": "ipython3",
   "version": "3.7.9"
  }
 },
 "nbformat": 4,
 "nbformat_minor": 2
}
